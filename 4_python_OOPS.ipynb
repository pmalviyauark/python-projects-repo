{
 "cells": [
  {
   "cell_type": "markdown",
   "metadata": {},
   "source": [
    "<div style=\"background-color: #9D2235; color: white; padding: 10px; \">\n",
    "    \n",
    " ## Python OOPS\n",
    "    \n",
    "</div>"
   ]
  },
  {
   "cell_type": "markdown",
   "metadata": {},
   "source": [
    "<div style=\"background-color: #9DC9D5; padding: 10px;\">\n",
    "    <h3>Structured Programming</h3>\n",
    "\n",
    "#### Definition\n",
    "Discrete Begin & End Points\n",
    "- Start ➔ Do Stuff ➔ Stop\n",
    "- “Do Stuff” may include waiting for user input, processing lists of records in files or databases, etc.\n",
    "\n",
    "</div>"
   ]
  },
  {
   "cell_type": "markdown",
   "metadata": {},
   "source": [
    "<div style=\"background-color: #9DC9D5; padding: 10px;\">\n",
    "    <h3>OOP (Libraries/Classes)</h3>\n",
    "\n",
    "#### Definition\n",
    "The conceptualization and construction of computer applications as collections of discrete objects that interact with each other by passing messages.\n",
    "- Objects perform actions and maintain state\n",
    "- Discrete objects communicate with each other by passing messages\n",
    "\n",
    "</div>"
   ]
  },
  {
   "cell_type": "markdown",
   "metadata": {},
   "source": [
    "# Object-Oriented Programming in Python\n",
    "\n",
    "## Overview of Object-Oriented Programming\n",
    "Object-oriented programming (OOP) is a programming paradigm based on the concept of \"objects,\" which contain both data and behaviors. Key principles of OOP include:\n",
    "- Programs are composed of multiple cooperating objects.\n",
    "- Instead of being the “whole program” - each object is a little “island” within the program and cooperatively working with other objects. A program is made up of one or more objects working together - Objects collaborate by leveraging each other's capabilities.\n",
    "- Core concepts include **classes**, **methods**, **fields**, and **instances**.\n",
    "\n",
    "## Key Concepts in OOP\n",
    "\n",
    "### Class\n",
    "A **class** is a blueprint or template for creating objects. It defines the abstract characteristics of an entity, including:\n",
    "- **Attributes** (fields or properties): Characteristics of the object.\n",
    "- **Behaviors** (methods or operations): Actions the object can perform.\n",
    "\n",
    "#### Example: The `Dog` Class\n",
    "A class `Dog` may include:\n",
    "- **Attributes**: \n",
    "  - Breed\n",
    "  - Fur color\n",
    "- **Behaviors**:\n",
    "  - Bark\n",
    "  - Sit\n",
    "\n",
    "### Object (Instance)\n",
    "An **object** (or instance) is a specific realization of a class. It represents:\n",
    "- The actual entity created at runtime.\n",
    "- The combination of **state** (attribute values) and **behavior** (methods) defined by its class.\n",
    "\n",
    "#### Example:\n",
    "- The `Lassie` object is an instance of the `Dog` class.\n",
    "- Lassie’s **state** includes:\n",
    "  - Breed: Collie\n",
    "  - Fur color: Golden\n",
    "- Lassie’s **behaviors** include:\n",
    "  - `bark()`\n",
    "  - `sit()`\n",
    "  - `walk()`\n",
    "\n",
    "**Note**: Object and Instance are often used interchangeably.\n",
    "\n",
    "### Method\n",
    "A **method** represents an object’s abilities or actions. In OOP:\n",
    "- Methods are analogous to verbs in a language.\n",
    "- They typically operate on or affect the specific object they belong to.\n",
    "\n",
    "#### Example:\n",
    "- The `bark()` method in the `Dog` class is a behavior unique to each `Dog` instance.\n",
    "- Lassie can also have methods such as:\n",
    "  - `sit()`\n",
    "  - `eat()`\n",
    "  - `save_timmy()`\n",
    "\n",
    "**Note**: Method and Message are often used interchangeably.\n",
    "\n",
    "## Summary of Core OOP Concepts\n",
    "- **Class**: The blueprint or template for objects.\n",
    "- **Object/Instance**: A specific realization of a class with state and behavior.\n",
    "- **Field/Attribute**: A characteristic or property of a class.\n",
    "- **Method/Message**: An action or capability of a class.\n",
    "\n",
    "OOP facilitates modular, reusable, and scalable programming by encapsulating data and behaviors within objects."
   ]
  },
  {
   "cell_type": "code",
   "execution_count": 1,
   "metadata": {},
   "outputs": [
    {
     "name": "stdout",
     "output_type": "stream",
     "text": [
      "0\n",
      "So Far 1\n",
      "So Far 2\n",
      "So Far 3\n",
      "3\n"
     ]
    }
   ],
   "source": [
    "class PartyAnimal:\n",
    "    x = 0  # Class attribute 'x' initialized to 0. This attribute is specific to instances of the class.\n",
    "    \n",
    "    #Defining the party method that increments the instance's 'x' attribute by 1 and prints it.\n",
    "    def party(self):\n",
    "        self.x = self.x + 1\n",
    "        print(\"So Far\", self.x)\n",
    "\n",
    "# Create an instance of the PartyAnimal class and assign it to 'an'.\n",
    "an = PartyAnimal()\n",
    "\n",
    "print(an.x)  # Access and print the initial value of the instance's 'x' attribute (which is 0).\n",
    "an.party()   # Call the 'party' method, incrementing 'x' to 1 and printing \"So Far 1\".\n",
    "an.party()   # Call the 'party' method again, incrementing 'x' to 2 and printing \"So Far 2\".\n",
    "an.party()   # Call the 'party' method a third time, incrementing 'x' to 3 and printing \"So Far 3\".\n",
    "\n",
    "print(an.x)  # Print the final value of the 'x' attribute (which is now 3).\n",
    "\n",
    "# Notes:\n",
    "# - The self parameter is a reference to the current instance of the class, and is used to access variables that belongs to the class.\n",
    "# - When you call the party() method on the instance 'an', the self parameter refers to that instance itself. This allows you to access and modify attributes specific to that instance.  In this case, the x attribute is incremented and printed for each call to the party() method.\n",
    "# - The 'x' attribute keeps track of how many times 'party()' has been called on this instance."
   ]
  },
  {
   "cell_type": "code",
   "execution_count": 2,
   "metadata": {},
   "outputs": [
    {
     "name": "stdout",
     "output_type": "stream",
     "text": [
      "Type <class '__main__.PartyAnimal'>\n",
      "Dir ['__class__', '__delattr__', '__dict__', '__dir__', '__doc__', '__eq__', '__format__', '__ge__', '__getattribute__', '__getstate__', '__gt__', '__hash__', '__init__', '__init_subclass__', '__le__', '__lt__', '__module__', '__ne__', '__new__', '__reduce__', '__reduce_ex__', '__repr__', '__setattr__', '__sizeof__', '__str__', '__subclasshook__', '__weakref__', 'party', 'x']\n"
     ]
    }
   ],
   "source": [
    "print(\"Type\", type(an))\n",
    "#We can use dir() to find the “capabilities” of our newly created class which is method party and attribute x\n",
    "print(\"Dir\", dir(an))"
   ]
  },
  {
   "attachments": {},
   "cell_type": "markdown",
   "metadata": {},
   "source": [
    "# Constructors and Destructors in Object-Oriented Programming\n",
    "\n",
    "## Overview of Constructors and Destructors\n",
    "In object-oriented programming, constructors and destructors are special methods that handle the creation and destruction of objects. These methods allow you to define specific actions to take when an object is instantiated or removed from memory.\n",
    "\n",
    "Key points:\n",
    "- **Objects** are created, used, and discarded.\n",
    "- **Constructors** and **destructors** are optional in Python. Constructors are frequently used to set up variables, while destructors are seldom needed.\n",
    "- We have special blocks of code (methods) that get called:\n",
    "    - At the moment of creation (constructor)\n",
    "    - At the moment of destruction (destructor)\n",
    "\n",
    "## Constructors\n",
    "\n",
    "### What is a Constructor?\n",
    "A **constructor** is a special method called automatically when an object is created. Its primary purpose is to initialize instance variables and set up the object with any necessary properties or default values.\n",
    "\n",
    "### Key Features:\n",
    "- **Custom Initialization**: Allows you to set specific attributes or perform setup tasks during object creation.\n",
    "- **Flexibility**: Can accept parameters to customize the behavior or properties of the instance.\n",
    "\n",
    "### Syntax:\n",
    "In Python, the constructor method is defined as `__init__()`:\n",
    "```python\n",
    "class MyClass:\n",
    "    def __init__(self, param1, param2):\n",
    "        self.param1 = param1\n",
    "        self.param2 = param2\n"
   ]
  },
  {
   "cell_type": "code",
   "execution_count": 3,
   "metadata": {},
   "outputs": [
    {
     "name": "stdout",
     "output_type": "stream",
     "text": [
      "I am constructed\n",
      "So far 1\n",
      "So far 2\n",
      "I am destructed 2\n",
      "an contains 42\n"
     ]
    }
   ],
   "source": [
    "class PartyAnimal:\n",
    "    x = 0  # Class attribute 'x' initialized to 0 for all instances.\n",
    "\n",
    "    def __init__(self):\n",
    "        # Constructor method is called automatically when an instance is created. Used to perform initialization tasks.\n",
    "        print('I am constructed')\n",
    "\n",
    "    def party(self):\n",
    "        # Method to increment the 'x' attribute by 1 and display the current value.\n",
    "        self.x = self.x + 1\n",
    "        print('So far', self.x)\n",
    "\n",
    "    def __del__(self):\n",
    "        # Destructor method is called automatically when the object is deleted. Used for cleanup tasks.\n",
    "        print('I am destructed', self.x)\n",
    "\n",
    "\n",
    "# Create an instance of the PartyAnimal class.\n",
    "an = PartyAnimal()  # Constructor (__init__) is called, printing \"I am constructed\".\n",
    "\n",
    "# Call the 'party' method twice.\n",
    "an.party()  # Increment 'x' to 1 and print \"So far 1\".\n",
    "an.party()  # Increment 'x' to 2 and print \"So far 2\".\n",
    "\n",
    "# Reassign the 'an' variable to an integer value. The PartyAnimal instance is no longer referenced and will be garbage collected.\n",
    "an = 42  # Destructor (__del__) is called, printing \"I am destructed 2\".\n",
    "\n",
    "# Print the new value of 'an' (which is now an integer).\n",
    "print('an contains', an)  # Prints \"an contains 42\"."
   ]
  },
  {
   "cell_type": "code",
   "execution_count": 4,
   "metadata": {},
   "outputs": [
    {
     "name": "stdout",
     "output_type": "stream",
     "text": [
      "Sally constructed\n",
      "Jim constructed\n",
      "Sally party count 1\n",
      "Jim party count 1\n",
      "Sally party count 2\n"
     ]
    }
   ],
   "source": [
    "# Define the PartyAnimal class.\n",
    "class PartyAnimal:\n",
    "    x = 0  # Class attribute 'x' initialized to 0 to track party count.\n",
    "    name = \"\"  # Class attribute 'name' to store the name of the instance.\n",
    "\n",
    "    def __init__(self, z):\n",
    "        # Constructor method is called when an instance is created. It initializes the 'name' attribute with the provided parameter 'z'.\n",
    "        self.name = z\n",
    "        print(self.name, \"constructed\")  # Print a message indicating the instance is constructed.\n",
    "\n",
    "    def party(self):\n",
    "        # Method to increment the 'x' attribute and display the current party count.\n",
    "        self.x = self.x + 1\n",
    "        print(self.name, \"party count\", self.x)  # Include the instance's name in the output.\n",
    "\n",
    "\n",
    "# Create an instance of PartyAnimal for Sally.\n",
    "s = PartyAnimal(\"Sally\")  # Constructor is called, printing \"Sally constructed\".\n",
    "\n",
    "# Create another instance of PartyAnimal for Jim.\n",
    "j = PartyAnimal(\"Jim\")  # Constructor is called, printing \"Jim constructed\".\n",
    "\n",
    "# Call the 'party' method for Sally.\n",
    "s.party()  # Increment Sally's 'x' to 1 and print \"Sally party count 1\".\n",
    "\n",
    "# Call the 'party' method for Jim.\n",
    "j.party()  # Increment Jim's 'x' to 1 and print \"Jim party count 1\".\n",
    "\n",
    "# Call the 'party' method for Sally again.\n",
    "s.party()  # Increment Sally's 'x' to 2 and print \"Sally party count 2\".\n"
   ]
  },
  {
   "cell_type": "markdown",
   "metadata": {},
   "source": [
    "# Inheritance in Object-Oriented Programming\n",
    "\n",
    "## Overview of Inheritance\n",
    "Inheritance is a mechanism in object-oriented programming that allows a new class (child class) to reuse and extend the functionality of an existing class (parent class). It promotes code reuse, making programs more modular and maintainable.\n",
    "\n",
    "Key points:\n",
    "- **Reusability**: Write once and reuse many times.\n",
    "- **Extensibility**: Add new features to the child class without altering the parent class.\n",
    "- **Specialization**: Subclasses are more specialized versions of the parent class.\n",
    "\n",
    "## Key Features of Inheritance\n",
    "\n",
    "### Parent and Child Classes\n",
    "- The **parent class** (or base class) provides attributes and methods that the **child class** (or derived class) inherits.\n",
    "- The child class can:\n",
    "  - Use the attributes and methods of the parent class.\n",
    "  - Override methods to customize behavior.\n",
    "  - Add new attributes and methods.\n",
    "\n",
    "#### Example: Vehicle and Automobile\n",
    "- **Parent Class**: `Vehicle`\n",
    "  - Attributes: `current_speed`, `acceleration`\n",
    "- **Child Class**: `Automobile`\n",
    "  - Inherits `Vehicle` attributes and methods.\n",
    "  - Adds new methods: `start_engine()`, `fuel_type`.\n"
   ]
  },
  {
   "cell_type": "code",
   "execution_count": 5,
   "metadata": {},
   "outputs": [
    {
     "name": "stdout",
     "output_type": "stream",
     "text": [
      "Sally constructed\n",
      "Sally party count 1\n",
      "Jim constructed\n",
      "Jim party count 1\n",
      "Jim party count 2\n",
      "Jim points 7\n"
     ]
    }
   ],
   "source": [
    "# Define the PartyAnimal class\n",
    "class PartyAnimal:\n",
    "    x = 0  # Class attribute to keep track of the number of parties attended.\n",
    "    name = \"\"  # Class attribute to store the name of the instance.\n",
    "\n",
    "    def __init__(self, nam):\n",
    "        # Constructor method to initialize the instance.Sets the 'name' attribute to the provided parameter 'nam'.\n",
    "        self.name = nam\n",
    "        print(self.name, \"constructed\")\n",
    "\n",
    "    def party(self):\n",
    "        self.x = self.x + 1\n",
    "        print(self.name, \"party count\", self.x)\n",
    "\n",
    "\n",
    "# Define the FootballFan class, inheriting from PartyAnimal.\n",
    "class FootballFan(PartyAnimal):\n",
    "    points = 0 \n",
    "\n",
    "    def touchdown(self):\n",
    "        self.points = self.points + 7 \n",
    "        self.party()  # Call the 'party' method from the parent class.\n",
    "        print(self.name, \"points\", self.points)  # Display the name and current points.\n",
    "\n",
    "\n",
    "# Create an instance of PartyAnimal for Sally.\n",
    "s = PartyAnimal(\"Sally\")  # Calls the constructor, printing \"Sally constructed\".\n",
    "s.party()  # Calls the 'party' method, incrementing Sally's party count to 1 and printing \"Sally party count 1\".\n",
    "\n",
    "# Create an instance of FootballFan for Jim.\n",
    "j = FootballFan(\"Jim\")  # Calls the constructor of PartyAnimal, printing \"Jim constructed\".\n",
    "j.party()  # Calls the inherited 'party' method, incrementing Jim's party count to 1 and printing \"Jim party count 1\".\n",
    "j.touchdown()  # Calls the 'touchdown' method:\n",
    "               # - Adds 7 points to Jim's score.\n",
    "               # - Calls 'party', incrementing Jim's party count to 2.\n",
    "               # - Prints \"Jim points 7\".\n"
   ]
  },
  {
   "cell_type": "markdown",
   "metadata": {},
   "source": [
    "### Summary\n",
    "- **Class** - a template\n",
    "- **Attribute** – A variable within a class\n",
    "- **Method** - A function within a class\n",
    "- **Object** - A particular instance of a class\n",
    "- **Constructor** – Code that runs when an object is created\n",
    "- **Inheritance** - The ability to extend a class to make a new class."
   ]
  },
  {
   "cell_type": "code",
   "execution_count": null,
   "metadata": {},
   "outputs": [],
   "source": []
  }
 ],
 "metadata": {
  "kernelspec": {
   "display_name": "Python 3 (ipykernel)",
   "language": "python",
   "name": "python3"
  },
  "language_info": {
   "codemirror_mode": {
    "name": "ipython",
    "version": 3
   },
   "file_extension": ".py",
   "mimetype": "text/x-python",
   "name": "python",
   "nbconvert_exporter": "python",
   "pygments_lexer": "ipython3",
   "version": "3.11.5"
  },
  "vscode": {
   "interpreter": {
    "hash": "d4d1e4263499bec80672ea0156c357c1ee493ec2b1c70f0acce89fc37c4a6abe"
   }
  }
 },
 "nbformat": 4,
 "nbformat_minor": 4
}
